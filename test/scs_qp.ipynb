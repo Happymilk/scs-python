{
 "cells": [
  {
   "cell_type": "code",
   "execution_count": 1,
   "metadata": {},
   "outputs": [],
   "source": [
    "import numpy as np\n",
    "import scipy.stats\n",
    "import scs"
   ]
  },
  {
   "cell_type": "code",
   "execution_count": 2,
   "metadata": {},
   "outputs": [],
   "source": [
    "#############################################\n",
    "#      Generate random cone problems        #\n",
    "#############################################\n",
    "\n",
    "def pos(x):\n",
    "    return (x + np.abs(x)) / 2.\n",
    "    \n",
    "def gen_feasible(m, n, p_scale = 0.1):\n",
    "    z = np.random.randn(m)\n",
    "    y = pos(z)\n",
    "    s = y - z\n",
    "\n",
    "    P = np.random.randn(n,n)\n",
    "    P = p_scale * P.T @ P\n",
    "\n",
    "    # Make problem slightly more numerically challenging:\n",
    "    A = np.random.randn(m, n)\n",
    "    U, S, V = np.linalg.svd(A, full_matrices=False)\n",
    "    S = S**2\n",
    "    S /= np.max(S)\n",
    "    A = (U * S) @ V\n",
    "        \n",
    "    x = np.random.randn(n)\n",
    "    c = -A.T @ y - P @ x\n",
    "    b = A.dot(x) + s\n",
    "    \n",
    "    #b /= np.linalg.norm(b)\n",
    "    #x /= np.linalg.norm(b)\n",
    "    \n",
    "    #c /= np.linalg.norm(c)\n",
    "    #y /= np.linalg.norm(c)\n",
    "    \n",
    "    return (P, A, b, c, x, y)"
   ]
  },
  {
   "cell_type": "code",
   "execution_count": 3,
   "metadata": {},
   "outputs": [],
   "source": [
    "def gen_infeasible(m, n, p_scale = 0.1):\n",
    "    # b'y < 0, A'y == 0\n",
    "    z = np.random.randn(m)\n",
    "    y = pos(z)  # y = s - z;\n",
    "    \n",
    "    A = np.random.randn(m, n)\n",
    "    \n",
    "    # A := A - y(A'y)' / y'y\n",
    "    A = A - np.outer(y, np.transpose(A).dot(y)) / np.linalg.norm(y)**2\n",
    "\n",
    "    b = np.random.randn(m)\n",
    "    b = -b / np.dot(b, y)\n",
    "    \n",
    "    P = np.random.randn(n,n)\n",
    "    P = p_scale * P.T @ P\n",
    "\n",
    "    return (P, A, b, np.random.randn(n))\n",
    "\n",
    "def gen_unbounded(m, n, p_scale = 0.1):\n",
    "    # c'x < 0, Ax + s = 0, Px = 0\n",
    "    z = np.random.randn(m)\n",
    "    s = pos(z)\n",
    "    \n",
    "    P = np.random.randn(n,n)\n",
    "    P = p_scale * P.T @ P\n",
    "    eigs, V = np.linalg.eig(P)\n",
    "    \n",
    "    i = np.argmin(eigs)\n",
    "    eigs[i] = 0\n",
    "    x = V[:,i]\n",
    "    \n",
    "    # Px = 0\n",
    "    P = (V * eigs) @ V.T\n",
    "    P = 0.5 * (P + P.T)\n",
    "      \n",
    "    A = np.random.randn(m, n)\n",
    "\n",
    "    # A := A - (s + Ax)x' / x'x ===> Ax + s == 0\n",
    "    A = A - np.outer(s + A.dot(x), x) / np.linalg.norm(x)**2\n",
    "        \n",
    "    c = np.random.randn(n)\n",
    "    c = -c / np.dot(c, x)\n",
    "    \n",
    "    return (P, A, np.random.randn(m), c)"
   ]
  },
  {
   "cell_type": "code",
   "execution_count": 4,
   "metadata": {},
   "outputs": [],
   "source": [
    "def is_optimal(P, A, b, c, x, y, tol=1e-6):\n",
    "    s = b - A @ x\n",
    "    \n",
    "    if (np.linalg.norm(P @ x + c + A.T @ y) < tol and\n",
    "        np.abs(y.T @ s) < tol and\n",
    "        np.linalg.norm(s - pos(s)) < tol and\n",
    "        np.linalg.norm(y - pos(y)) < tol):\n",
    "        return True\n",
    "    return False\n",
    "\n",
    "def is_infeasible(A, b, y, tol=1e-6):\n",
    "    if b.T @ y >= 0:\n",
    "        return False\n",
    "    \n",
    "    y_hat = y / np.abs(b.T @ y)\n",
    "    if (np.linalg.norm(y_hat - pos(y_hat)) < tol and np.linalg.norm(A.T @ y_hat) < tol):\n",
    "        return True\n",
    "    return False\n",
    "\n",
    "def is_unbounded(P, A, c, x, tol=1e-6):\n",
    "    if c.T @ x >= 0:\n",
    "        return False\n",
    "    \n",
    "    x_hat = x / np.abs(c.T @ x)\n",
    "    if np.linalg.norm(P @ x_hat) < tol and np.linalg.norm(A @ x_hat + pos(-A @ x_hat)) < tol:\n",
    "        return True\n",
    "    return False"
   ]
  },
  {
   "cell_type": "code",
   "execution_count": 5,
   "metadata": {},
   "outputs": [],
   "source": [
    "# ''linear'' projection logic\n",
    "\n",
    "class LinearProjector(object):\n",
    "    def __init__(self, P, A, b, c):\n",
    "        (m,n) = A.shape\n",
    "        self.A = A\n",
    "        self.h = np.hstack((c, b))        \n",
    "        self.L = scipy.linalg.cho_factor(np.eye(n) + P + A.T @ A)\n",
    "        self.g = self._solve(self.h)\n",
    "\n",
    "    def _solve(self, v):\n",
    "        (m, n) = self.A.shape\n",
    "        sol = np.zeros(n+m,)\n",
    "        sol[:n] = scipy.linalg.cho_solve(self.L, v[:n] - self.A.T @ v[n:])\n",
    "        sol[n:] = v[n:] + self.A @ sol[:n]\n",
    "        return sol\n",
    "        \n",
    "    def project(self, w):\n",
    "        g = self.g\n",
    "        p = self._solve(w[:-1])\n",
    "        \n",
    "        _a = 1 + g.T@g\n",
    "        _b = w[:-1].T @ g - 2 * p.T @ g - w[-1]\n",
    "        _c = p.T@p - w[:-1].T @ p\n",
    "        \n",
    "        tau = (-_b + np.sqrt(_b ** 2 - 4 * _a * _c)) / 2 / _a\n",
    "        \n",
    "        return np.hstack((p - tau * g, tau))\n",
    "\n",
    "# Douglas-Rachford splitting / ADMM for QP\n",
    "def solve_qp_dr(P, A, b, c, N=1000, tol=1e-6):\n",
    "    (m,n) = np.shape(A)\n",
    "\n",
    "    lp = LinearProjector(P, A, b, c)\n",
    "\n",
    "    u = np.zeros(n+m+1,)\n",
    "    #u[:n+m] = np.hstack((c, b))\n",
    "    u[-1] = 1.\n",
    "\n",
    "    def proj_cone(v):\n",
    "        v[n:] = np.maximum(v[n:], 0.)\n",
    "        return v\n",
    "\n",
    "\n",
    "    use_dr = True # slightly different DR vs ADMM\n",
    "    \n",
    "    for i in range(N):\n",
    "        # for DR ut converges to sol *not* u, see Patrinos, Stella, Bemporad, 2014\n",
    "        # v - ut go to zero\n",
    "        dr_lam = 0.5 # \\in [0,1], 0.5 = DR, 1.0 = PR\n",
    "\n",
    "        ut = lp.project(u)\n",
    "        v = proj_cone(2 * ut - u)\n",
    "        u += 2 * dr_lam * (v - ut)\n",
    "        \n",
    "        x = ut[:n] / ut[-1]\n",
    "        y = ut[n:-1] / ut[-1]\n",
    "        \n",
    "        if (is_optimal(P, A, b, c, x, y, tol=tol) or \n",
    "            is_infeasible(A, b, y, tol=tol) or\n",
    "            is_unbounded(P, A, c, x, tol=tol)):\n",
    "            break\n",
    "        \n",
    "    print(i)\n",
    "    return x,y\n"
   ]
  },
  {
   "cell_type": "code",
   "execution_count": 6,
   "metadata": {},
   "outputs": [],
   "source": [
    "m = 1500\n",
    "n = 1000\n",
    "N = int(5e3)\n",
    "seed = 1234"
   ]
  },
  {
   "cell_type": "code",
   "execution_count": 7,
   "metadata": {},
   "outputs": [
    {
     "name": "stdout",
     "output_type": "stream",
     "text": [
      "4825\n",
      "------------------------------------------------------------------\n",
      "\tSCS v2.1.2 - Splitting Conic Solver\n",
      "\t(c) Brendan O'Donoghue, Stanford University, 2012\n",
      "------------------------------------------------------------------\n",
      "problem:  variables n: 1000, constraints m: 1500\n",
      "cones: \t  l: linear vars: 1500\n",
      "settings: eps: 1.00e-03, alpha: 1.50, max_iters: 50000,\n",
      "\t  normalize: 1, scale: 1.00, rho_x: 1.00e-03,\n",
      "\t  acceleration_lookback: 10\n",
      "lin-sys:  sparse-direct\n",
      "\t  nnz(A): 1500000, nnz(P): 500500\n",
      "------------------------------------------------------------------\n",
      " Iter | pri res | dua res | rel gap |   obj   | kap/tau | time (s)\n",
      "------------------------------------------------------------------\n",
      "     0| 1.37e+18  1.66e+18  2.62e-01 -5.13e+19  1.53e+20  2.78e-02 \n",
      "   100| 1.04e+13  1.32e+13  1.00e+00 -3.98e+18  3.34e+11  9.39e-01 \n",
      "   120| 3.60e+11  5.06e+11  1.00e+00 -3.98e+18  3.34e+10  1.12e+00 \n",
      "------------------------------------------------------------------\n",
      "status:  unbounded\n",
      "timings: total: 5.59e+00s = setup: 4.47e+00s + solve: 1.12e+00s\n",
      "\t lin-sys: 1.05e+00s, cones: 7.85e-04s, accel: 1.98e-02s\n",
      "lin-sys: nnz(L): 3126250\n",
      "------------------------------------------------------------------\n",
      "cone: dist(s, K) = 1.0420e-22\n",
      "cert: |Ax+s|_2*|c|_2 = 5.1560e-04\n",
      "      (x'Px)^(1/2) = 2.6612e-06\n",
      "      c'x = -1.0000\n",
      "==================================================================\n"
     ]
    }
   ],
   "source": [
    "np.random.seed(seed)\n",
    "(P, A, b, c) = gen_unbounded(m, n)\n",
    "#P = P + 1e-7 * np.eye(n)\n",
    "(x,y) = solve_qp_dr(P, A, b, c, N=N)\n",
    "probdata = dict(P=scipy.sparse.csc_matrix(P), A=scipy.sparse.csc_matrix(A), b=b, c=c)\n",
    "cone = dict(l=m)\n",
    "sol = scs.solve(probdata, cone, normalize=True, max_iters=10 * N, acceleration_lookback = 10, eps=1e-6)"
   ]
  },
  {
   "cell_type": "code",
   "execution_count": 8,
   "metadata": {},
   "outputs": [
    {
     "name": "stdout",
     "output_type": "stream",
     "text": [
      "-1.0000000000000002\n",
      "0.0005156027452573967\n",
      "2.6633655930009557e-06\n"
     ]
    }
   ],
   "source": [
    "print(c.T @ sol['x'])\n",
    "print(np.linalg.norm(c) * np.linalg.norm(A @ sol['x'] + sol['s']))\n",
    "print(np.sqrt(max(0., sol['x'].T @ P @ sol['x'])))"
   ]
  },
  {
   "cell_type": "code",
   "execution_count": 9,
   "metadata": {},
   "outputs": [
    {
     "name": "stdout",
     "output_type": "stream",
     "text": [
      "0.0\n"
     ]
    }
   ],
   "source": [
    "print(np.linalg.norm(P - P.T))"
   ]
  },
  {
   "cell_type": "code",
   "execution_count": null,
   "metadata": {},
   "outputs": [
    {
     "name": "stderr",
     "output_type": "stream",
     "text": [
      "/usr/local/google/home/bodonoghue/miniconda2/envs/scs_qp/lib/python3.6/site-packages/ipykernel_launcher.py:56: RuntimeWarning: divide by zero encountered in true_divide\n",
      "/usr/local/google/home/bodonoghue/miniconda2/envs/scs_qp/lib/python3.6/site-packages/ipykernel_launcher.py:57: RuntimeWarning: divide by zero encountered in true_divide\n",
      "/usr/local/google/home/bodonoghue/miniconda2/envs/scs_qp/lib/python3.6/site-packages/ipykernel_launcher.py:2: RuntimeWarning: invalid value encountered in matmul\n",
      "  \n",
      "/usr/local/google/home/bodonoghue/miniconda2/envs/scs_qp/lib/python3.6/site-packages/ipykernel_launcher.py:4: RuntimeWarning: invalid value encountered in matmul\n",
      "  after removing the cwd from sys.path.\n",
      "/usr/local/google/home/bodonoghue/miniconda2/envs/scs_qp/lib/python3.6/site-packages/ipykernel_launcher.py:12: RuntimeWarning: invalid value encountered in matmul\n",
      "  if sys.path[0] == '':\n",
      "/usr/local/google/home/bodonoghue/miniconda2/envs/scs_qp/lib/python3.6/site-packages/ipykernel_launcher.py:15: RuntimeWarning: invalid value encountered in matmul\n",
      "  from ipykernel import kernelapp as app\n",
      "/usr/local/google/home/bodonoghue/miniconda2/envs/scs_qp/lib/python3.6/site-packages/ipykernel_launcher.py:21: RuntimeWarning: invalid value encountered in matmul\n",
      "/usr/local/google/home/bodonoghue/miniconda2/envs/scs_qp/lib/python3.6/site-packages/ipykernel_launcher.py:24: RuntimeWarning: invalid value encountered in matmul\n"
     ]
    },
    {
     "name": "stdout",
     "output_type": "stream",
     "text": [
      "519\n",
      "------------------------------------------------------------------\n",
      "\tSCS v2.1.2 - Splitting Conic Solver\n",
      "\t(c) Brendan O'Donoghue, Stanford University, 2012\n",
      "------------------------------------------------------------------\n",
      "problem:  variables n: 1000, constraints m: 1500\n",
      "cones: \t  l: linear vars: 1500\n",
      "settings: eps: 1.00e-06, alpha: 1.50, max_iters: 5000,\n",
      "\t  normalize: 1, scale: 1.00, rho_x: 1.00e-03,\n",
      "\t  acceleration_lookback: 10\n",
      "lin-sys:  sparse-direct\n",
      "\t  nnz(A): 1500000, nnz(P): 500500\n",
      "------------------------------------------------------------------\n",
      " Iter | pri res | dua res | rel gap |   obj   | kap/tau | time (s)\n",
      "------------------------------------------------------------------\n",
      "     0| 1.21e+03  7.83e+02  9.94e-01  8.61e+05  0.00e+00  2.79e-02 \n"
     ]
    }
   ],
   "source": [
    "np.random.seed(seed)\n",
    "(P, A, b, c) = gen_infeasible(m, n)\n",
    "#P = P + np.eye(n)\n",
    "(x,y) = solve_qp_dr(P, A, b, c, N=N)\n",
    "probdata = dict(P=scipy.sparse.csc_matrix(P), A=scipy.sparse.csc_matrix(A), b=b, c=c)\n",
    "cone = dict(l=m)\n",
    "sol = scs.solve(probdata, cone, normalize=True, max_iters=N, acceleration_lookback = 10, eps=1e-6)"
   ]
  },
  {
   "cell_type": "code",
   "execution_count": null,
   "metadata": {},
   "outputs": [],
   "source": [
    "print(b.T @ sol['y'])\n",
    "print(np.linalg.norm(b) * np.linalg.norm(A.T @ sol['y']))"
   ]
  },
  {
   "cell_type": "code",
   "execution_count": null,
   "metadata": {},
   "outputs": [],
   "source": [
    "np.random.seed(seed)\n",
    "(P, A, b, c, _x, _y) = gen_feasible(m, n, p_scale=0.1)\n",
    "#(_x,_y) = solve_qp_dr(P, A, b, c, N=int())\n",
    "probdata = dict(P=scipy.sparse.csc_matrix(P), A=scipy.sparse.csc_matrix(A), b=b, c=c)\n",
    "\n",
    "cone = dict(l=m)\n",
    "sol = scs.solve(probdata, cone, normalize=True, max_iters=N, acceleration_lookback = 5, eps=1e-9, scale=0.1)"
   ]
  },
  {
   "cell_type": "code",
   "execution_count": null,
   "metadata": {},
   "outputs": [],
   "source": [
    "x = sol['x']\n",
    "y = sol['y']\n",
    "s = sol['s']\n",
    "\n",
    "print(_x.T@ P @ _x / 2 + c.T @ _x)\n",
    "print(x.T@ P @ x / 2 + c.T @ x)\n",
    "\n",
    "print(np.linalg.norm(x - _x))\n",
    "print(np.linalg.norm(y - _y))\n",
    "\n",
    "#x = _x\n",
    "#y = _y\n",
    "#s = b - A @ _x\n",
    "\n",
    "print(np.linalg.norm(A @ x + s - b) / (1+np.linalg.norm(b)))\n",
    "print(np.linalg.norm(P@x + A.T @ y + c) / (1+np.linalg.norm(c)))\n",
    "print(abs(x.T@ P @ x + c.T @ x + b.T @ y) / (1 + abs(x.T@P @ x) + abs(c.T @ x) + abs(b.T @ y)))"
   ]
  },
  {
   "cell_type": "code",
   "execution_count": null,
   "metadata": {},
   "outputs": [],
   "source": [
    "np.random.seed(seed)\n",
    "(P, A, b, c, _, _) = gen_feasible(m, n, p_scale=0.)\n",
    "#(x,y) = solve_qp_dr(P, A, b, c, N=N)\n",
    "#print(c.T @ x)\n",
    "#print(x)"
   ]
  },
  {
   "cell_type": "code",
   "execution_count": null,
   "metadata": {},
   "outputs": [],
   "source": [
    "sol = scs.solve(probdata, cone, normalize=True, max_iters=N, acceleration_lookback = 0, eps=1e-6, use_indirect=False)\n",
    "print(c.T @ sol['x'])"
   ]
  },
  {
   "cell_type": "code",
   "execution_count": null,
   "metadata": {},
   "outputs": [],
   "source": [
    "probdata = dict(P=None, A=scipy.sparse.csc_matrix(A), b=b, c=c)\n",
    "cone = dict(l=m)\n",
    "sol = scs.solve(probdata, cone, normalize=True, max_iters=N, acceleration_lookback = 0, eps=1e-6, use_indirect=True)\n",
    "print(c.T @ sol['x'])"
   ]
  },
  {
   "cell_type": "code",
   "execution_count": null,
   "metadata": {},
   "outputs": [],
   "source": [
    "np.random.seed(seed)\n",
    "(P, A, b, c, _, _) = gen_feasible(m, n, 0.001)"
   ]
  },
  {
   "cell_type": "code",
   "execution_count": null,
   "metadata": {},
   "outputs": [],
   "source": [
    "print(np.linalg.norm(A.flatten(), np.inf))\n",
    "print(np.linalg.norm(P.flatten(), np.inf))"
   ]
  },
  {
   "cell_type": "code",
   "execution_count": null,
   "metadata": {},
   "outputs": [],
   "source": [
    "(x,y) = solve_qp_dr(P, A, b, c, N=N)\n",
    "print(x)\n",
    "print(y)"
   ]
  },
  {
   "cell_type": "code",
   "execution_count": null,
   "metadata": {},
   "outputs": [],
   "source": [
    "np.random.seed(seed)\n",
    "(P, A, b, c, _, _) = gen_feasible(m, n)\n",
    "\n",
    "probdata = dict(P=scipy.sparse.csc_matrix(P), A=scipy.sparse.csc_matrix(A), b=b, c=c)\n",
    "\n",
    "cone = dict(l=m)\n",
    "scs.solve(probdata, cone, normalize=True, max_iters=N, acceleration_lookback = 5, eps=1e-6, scale=1)"
   ]
  },
  {
   "cell_type": "code",
   "execution_count": null,
   "metadata": {},
   "outputs": [],
   "source": [
    "scs.solve(probdata, cone, normalize=True, max_iters=N, acceleration_lookback = 5, eps=1e-6, use_indirect=True, scale=1)"
   ]
  },
  {
   "cell_type": "code",
   "execution_count": null,
   "metadata": {},
   "outputs": [],
   "source": [
    "scs.solve(probdata, cone, normalize=True, max_iters=N, acceleration_lookback = 0, eps=1e-6, use_indirect=True, scale=1)"
   ]
  },
  {
   "cell_type": "code",
   "execution_count": null,
   "metadata": {},
   "outputs": [],
   "source": [
    "np.random.seed(seed)\n",
    "(P, A, b, c, _, _) = gen_feasible(m, n, p_scale=0.)\n",
    "(x,y) = solve_qp_dr(P, A, b, c, N=N)\n",
    "print(x)\n",
    "\n",
    "probdata = dict(P=scipy.sparse.csc_matrix(P), A=scipy.sparse.csc_matrix(A), b=b, c=c)\n",
    "cone = dict(l=m)\n",
    "scs.solve(probdata, cone, normalize=True, max_iters=N, acceleration_lookback = 10, eps=1e-6)\n",
    "\n",
    "probdata = dict(P=None, A=scipy.sparse.csc_matrix(A), b=b, c=c)\n",
    "cone = dict(l=m)\n",
    "scs.solve(probdata, cone, normalize=True, max_iters=N, acceleration_lookback = 10, eps=1e-6)"
   ]
  },
  {
   "cell_type": "code",
   "execution_count": null,
   "metadata": {},
   "outputs": [],
   "source": [
    "sol = scs.solve(probdata, cone, normalize=False, max_iters=N, acceleration_lookback = 0, eps=1e-6, use_indirect=True)\n",
    "print(c.T @ sol['x'])"
   ]
  },
  {
   "cell_type": "code",
   "execution_count": null,
   "metadata": {},
   "outputs": [],
   "source": [
    "probdata = dict(P=None, A=scipy.sparse.csc_matrix(A), b=b, c=c)\n",
    "cone = dict(l=m)\n",
    "sol = scs.solve(probdata, cone, normalize=True, max_iters=N, acceleration_lookback = 10, eps=1e-6, use_indirect=True)\n",
    "print(c.T @ sol['x'])"
   ]
  },
  {
   "cell_type": "code",
   "execution_count": null,
   "metadata": {},
   "outputs": [],
   "source": [
    "np.random.seed(seed)\n",
    "(P, A, b, c, _, _) = gen_feasible(m, n, p_scale=0.)\n",
    "print(np.linalg.norm(A))"
   ]
  },
  {
   "cell_type": "code",
   "execution_count": null,
   "metadata": {},
   "outputs": [],
   "source": [
    "np.random.seed(seed)\n",
    "(P, A, b, c, _, _) = gen_feasible(m, n, p_scale=0.)\n",
    "(x,y) = solve_qp_dr(P, A, b, c, N=N)\n",
    "print(c.T @ x)\n",
    "print(x)\n",
    "\n",
    "probdata = dict(P=scipy.sparse.csc_matrix(P), A=scipy.sparse.csc_matrix(A), b=b, c=c)\n",
    "cone = dict(l=m)\n",
    "scs.solve(probdata, cone, normalize=True, max_iters=N, acceleration_lookback = 10, eps=1e-6, use_indirect=True)\n",
    "\n",
    "probdata = dict(P=None, A=scipy.sparse.csc_matrix(A), b=b, c=c)\n",
    "cone = dict(l=m)\n",
    "sol = scs.solve(probdata, cone, normalize=True, max_iters=N, acceleration_lookback = 10, eps=1e-6, use_indirect=True)\n",
    "print(c.T @ sol['x'])"
   ]
  }
 ],
 "metadata": {
  "kernelspec": {
   "display_name": "Python 3",
   "language": "python",
   "name": "python3"
  },
  "language_info": {
   "codemirror_mode": {
    "name": "ipython",
    "version": 3
   },
   "file_extension": ".py",
   "mimetype": "text/x-python",
   "name": "python",
   "nbconvert_exporter": "python",
   "pygments_lexer": "ipython3",
   "version": "3.6.10"
  }
 },
 "nbformat": 4,
 "nbformat_minor": 4
}
