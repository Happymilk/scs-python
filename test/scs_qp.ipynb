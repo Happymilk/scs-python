{
 "cells": [
  {
   "cell_type": "code",
   "execution_count": 1,
   "metadata": {},
   "outputs": [],
   "source": [
    "import numpy as np\n",
    "import scipy.stats\n",
    "import scs"
   ]
  },
  {
   "cell_type": "code",
   "execution_count": 2,
   "metadata": {},
   "outputs": [],
   "source": [
    "#############################################\n",
    "#      Generate random cone problems        #\n",
    "#############################################\n",
    "\n",
    "def pos(x):\n",
    "    return (x + np.abs(x)) / 2.\n",
    "    \n",
    "def gen_feasible(m, n, p_scale = 0.1):\n",
    "    z = np.random.randn(m)\n",
    "    y = pos(z)\n",
    "    s = y - z\n",
    "\n",
    "    P = np.random.randn(n,n)\n",
    "    P = p_scale * P.T @ P\n",
    "\n",
    "    # Make problem slightly more numerically challenging:\n",
    "    A = np.random.randn(m, n)\n",
    "    U, S, V = np.linalg.svd(A, full_matrices=False)\n",
    "    S = S**2\n",
    "    S /= np.max(S)\n",
    "    A = (U * S) @ V\n",
    "        \n",
    "    x = np.random.randn(n)\n",
    "    c = -A.T @ y - P @ x\n",
    "    b = A.dot(x) + s\n",
    "    \n",
    "    b /= np.linalg.norm(b)\n",
    "    c /= np.linalg.norm(c)\n",
    "\n",
    "    return (P, A, b, c)"
   ]
  },
  {
   "cell_type": "code",
   "execution_count": 3,
   "metadata": {},
   "outputs": [],
   "source": [
    "def is_optimal(P, A, b, c, x, y, tol=1e-6):\n",
    "    s = b - A @ x\n",
    "    \n",
    "    if (np.linalg.norm(P @ x + c + A.T @ y) < tol and\n",
    "        np.abs(y.T @ s) < tol and\n",
    "        np.linalg.norm(s - pos(s)) < tol and\n",
    "        np.linalg.norm(y - pos(y)) < tol):\n",
    "        return True\n",
    "    return False"
   ]
  },
  {
   "cell_type": "code",
   "execution_count": 4,
   "metadata": {},
   "outputs": [],
   "source": [
    "# ''linear'' projection logic\n",
    "\n",
    "class LinearProjector(object):\n",
    "    def __init__(self, P, A, b, c):\n",
    "        (m,n) = A.shape\n",
    "        self.A = A\n",
    "        self.h = np.hstack((c, b))        \n",
    "        self.L = scipy.linalg.cho_factor(np.eye(n) + P + A.T @ A)\n",
    "        self.g = self._solve(self.h)\n",
    "\n",
    "    def _solve(self, v):\n",
    "        (m, n) = self.A.shape\n",
    "        sol = np.zeros(n+m,)\n",
    "        sol[:n] = scipy.linalg.cho_solve(self.L, v[:n] - self.A.T @ v[n:])\n",
    "        sol[n:] = v[n:] + self.A @ sol[:n]\n",
    "        return sol\n",
    "        \n",
    "    def project(self, w):\n",
    "        g = self.g\n",
    "        p = self._solve(w[:-1])\n",
    "        \n",
    "        _a = 1 + g.T@g\n",
    "        _b = w[:-1].T @ g - 2 * p.T @ g - w[-1]\n",
    "        _c = p.T@p - w[:-1].T @ p\n",
    "        \n",
    "        tau = (-_b + np.sqrt(_b ** 2 - 4 * _a * _c)) / 2 / _a\n",
    "        \n",
    "        return np.hstack((p - tau * g, tau))\n",
    "\n",
    "# Douglas-Rachford splitting / ADMM for QP\n",
    "def solve_qp_dr(P, A, b, c, N=1000):\n",
    "    (m,n) = np.shape(A)\n",
    "\n",
    "    lp = LinearProjector(P, A, b, c)\n",
    "\n",
    "    u = np.zeros(n+m+1,)\n",
    "    #u[:n+m] = np.hstack((c, b))\n",
    "    u[-1] = 1.\n",
    "\n",
    "    def proj_cone(v):\n",
    "        v[n:] = np.maximum(v[n:], 0.)\n",
    "        return v\n",
    "\n",
    "\n",
    "    use_dr = True # slightly different DR vs ADMM\n",
    "    \n",
    "    for i in range(N):\n",
    "        # for DR ut converges to sol *not* u, see Patrinos, Stella, Bemporad, 2014\n",
    "        # v - ut go to zero\n",
    "        dr_lam = 0.5 # \\in [0,1], 0.5 = DR, 1.0 = PR\n",
    "\n",
    "        ut = lp.project(u)\n",
    "        v = proj_cone(2 * ut - u)\n",
    "        u += 2 * dr_lam * (v - ut)\n",
    "        \n",
    "        x = ut[:n] / ut[-1]\n",
    "        y = ut[n:-1] / ut[-1]\n",
    "        \n",
    "        if is_optimal(P, A, b, c, x, y, tol=1e-9):\n",
    "            break\n",
    "        \n",
    "    print(i)\n",
    "    return x,y\n",
    "\n"
   ]
  },
  {
   "cell_type": "code",
   "execution_count": 5,
   "metadata": {},
   "outputs": [],
   "source": [
    "m = 15\n",
    "n = 10\n",
    "N = int(5e3)"
   ]
  },
  {
   "cell_type": "code",
   "execution_count": 10,
   "metadata": {},
   "outputs": [
    {
     "name": "stdout",
     "output_type": "stream",
     "text": [
      "514\n",
      "[-0.13351969  0.09140453  0.11516882  0.28373837 -0.07264948 -0.2798121\n",
      " -0.25180523  0.30405864 -0.13665965 -0.25222408]\n",
      "[ 3.54744623e-10  1.46516000e-01  3.08666010e-10  8.37947276e-12\n",
      "  1.13901231e-10  2.93315538e-01 -6.08878503e-11 -1.31061643e-10\n",
      "  2.08074169e-01 -1.85143373e-10  1.06664439e-10 -1.35809290e-10\n",
      " -4.09269196e-11 -4.27421504e-10 -1.45058328e-10]\n"
     ]
    }
   ],
   "source": [
    "feas_h_is = []\n",
    "feas_nh_is = []\n",
    "\n",
    "conds = []\n",
    "\n",
    "np.random.seed(123)\n",
    "\n",
    "(P, A, b, c) = gen_feasible(m, n)\n",
    "(x,y) = solve_qp_dr(P, A, b, c, N=N)\n",
    "print(x)\n",
    "print(y)"
   ]
  },
  {
   "cell_type": "code",
   "execution_count": 7,
   "metadata": {},
   "outputs": [
    {
     "name": "stdout",
     "output_type": "stream",
     "text": [
      "----------------------------------------------------------------------------\n",
      "\tSCS v2.1.2 - Splitting Conic Solver\n",
      "\t(c) Brendan O'Donoghue, Stanford University, 2012\n",
      "----------------------------------------------------------------------------\n",
      "Lin-sys: sparse-direct, nnz in A = 150\n",
      "eps = 1.00e-05, alpha = 1.00, max_iters = 5000, normalize = 0\n",
      "acceleration_lookback = 0, rho_x = 1.00e+00\n",
      "Variables n = 10, constraints m = 15\n",
      "Cones:\tlinear vars: 15\n",
      "Setup time: 6.57e-03s\n",
      "----------------------------------------------------------------------------\n",
      " Iter | pri res | dua res | rel gap | pri obj | dua obj | kap/tau | time (s)\n",
      "----------------------------------------------------------------------------\n",
      "     0| 8.78e+18  1.24e+19  9.20e-01 -1.01e+19  4.92e+15  1.87e+19  6.08e-03 \n",
      "   100| 1.46e-04  3.01e-04  1.19e-04 -4.35e-01 -2.76e-02  1.00e+00  6.57e-03 \n",
      "   200| 2.39e-06  4.74e-06  2.58e-06 -4.35e-01 -2.74e-02  1.00e+00  7.01e-03 \n",
      "----------------------------------------------------------------------------\n",
      "Status: Solved\n",
      "Timing: Solve time: 7.10e-03s\n",
      "\tLin-sys: nnz in L factor: 265, avg solve time: 7.17e-07s\n",
      "\tCones: avg projection time: 4.25e-08s\n",
      "\tAcceleration: avg step time: 2.69e-08s\n",
      "----------------------------------------------------------------------------\n",
      "Error metrics:\n",
      "dist(s, K) = 0.0000e+00, dist(y, K*) = 0.0000e+00, s'y/|s||y| = 3.5226e-01\n",
      "primal res: |Ax + s - b|_2 / (1 + |b|_2) = 2.3941e-06\n",
      "dual res: |Px + A'y + c|_2 / (1 + |c|_2) = 4.7417e-06\n",
      "rel gap: | x'Px + c'x + b'y| / (1 + |c'x| + |b'y|) = 2.5772e-06\n",
      "----------------------------------------------------------------------------\n",
      "c'x = -0.4348, -b'y = -0.0274\n",
      "============================================================================\n"
     ]
    },
    {
     "data": {
      "text/plain": [
       "{'x': array([-0.13352833,  0.0913651 ,  0.11523738,  0.28381225, -0.07275692,\n",
       "        -0.27992132, -0.25184019,  0.30407561, -0.13666681, -0.25228216]),\n",
       " 'y': array([0.        , 0.14644878, 0.        , 0.        , 0.        ,\n",
       "        0.2933768 , 0.        , 0.        , 0.20807256, 0.        ,\n",
       "        0.        , 0.        , 0.        , 0.        , 0.        ]),\n",
       " 's': array([0.27185662, 0.14642033, 0.00996228, 0.46548158, 0.17484812,\n",
       "        0.29338444, 0.74167935, 0.11942951, 0.20807279, 0.25759663,\n",
       "        0.21707643, 0.0081178 , 0.00399309, 0.17121053, 0.18987706]),\n",
       " 'info': {'statusVal': 1,\n",
       "  'iter': 200,\n",
       "  'pobj': -0.4348102477000499,\n",
       "  'dobj': -0.027402283703497673,\n",
       "  'resPri': 2.394145627063584e-06,\n",
       "  'resDual': 4.741664119959889e-06,\n",
       "  'relGap': 2.5772108645824504e-06,\n",
       "  'resInfeas': nan,\n",
       "  'resUnbdd': 2.2998615969244023,\n",
       "  'solveTime': 7.103553,\n",
       "  'setupTime': 6.565199,\n",
       "  'status': 'Solved'}}"
      ]
     },
     "execution_count": 7,
     "metadata": {},
     "output_type": "execute_result"
    }
   ],
   "source": [
    "probdata = dict(P=scipy.sparse.csc_matrix(P), A=scipy.sparse.csc_matrix(A), b=b, c=c)\n",
    "#probdata = dict(P=None, A=scipy.sparse.csc_matrix(A), b=b, c=c, normalize=False, iters=-1)\n",
    "\n",
    "cone = dict(l=m)\n",
    "scs.solve(probdata, cone, normalize=False, max_iters=N, acceleration_lookback = 0)"
   ]
  },
  {
   "cell_type": "code",
   "execution_count": 8,
   "metadata": {},
   "outputs": [
    {
     "name": "stdout",
     "output_type": "stream",
     "text": [
      "864\n",
      "[-0.01332149 -0.19445579 -0.07097391 -0.28368241  0.17437659  0.18742115\n",
      " -0.29593732 -0.37628333  0.10179457  0.20877669]\n"
     ]
    }
   ],
   "source": [
    "(P, A, b, c) = gen_feasible(m, n, p_scale=0.)\n",
    "(x,y) = solve_qp_dr(P, A, b, c, N=N)\n",
    "print(x)"
   ]
  },
  {
   "cell_type": "code",
   "execution_count": 9,
   "metadata": {},
   "outputs": [
    {
     "name": "stdout",
     "output_type": "stream",
     "text": [
      "----------------------------------------------------------------------------\n",
      "\tSCS v2.1.2 - Splitting Conic Solver\n",
      "\t(c) Brendan O'Donoghue, Stanford University, 2012\n",
      "----------------------------------------------------------------------------\n",
      "Lin-sys: sparse-direct, nnz in A = 150\n",
      "eps = 1.00e-05, alpha = 1.00, max_iters = 5000, normalize = 0\n",
      "acceleration_lookback = 0, rho_x = 1.00e+00\n",
      "Variables n = 10, constraints m = 15\n",
      "Cones:\tlinear vars: 15\n",
      "Setup time: 2.83e-03s\n",
      "----------------------------------------------------------------------------\n",
      " Iter | pri res | dua res | rel gap | pri obj | dua obj | kap/tau | time (s)\n",
      "----------------------------------------------------------------------------\n",
      "     0| 7.89e+18  5.30e+17  9.64e-01 -2.05e+19 -3.80e+17  2.26e+19  4.46e-03 \n",
      "   100| 1.87e-03  5.79e-03  2.82e-03 -3.82e-01 -3.77e-01  1.00e+00  5.72e-03 \n",
      "   200| 4.02e-04  1.02e-03  7.38e-05 -3.80e-01 -3.80e-01  1.00e+00  1.01e-02 \n",
      "   300| 4.12e-05  1.23e-04  4.37e-05 -3.81e-01 -3.81e-01  1.00e+00  1.16e-02 \n",
      "   400| 4.01e-06  9.16e-06  7.35e-07 -3.81e-01 -3.81e-01  1.00e+00  1.25e-02 \n",
      "----------------------------------------------------------------------------\n",
      "Status: Solved\n",
      "Timing: Solve time: 1.25e-02s\n",
      "\tLin-sys: nnz in L factor: 265, avg solve time: 7.30e-07s\n",
      "\tCones: avg projection time: 4.11e-08s\n",
      "\tAcceleration: avg step time: 2.88e-08s\n",
      "----------------------------------------------------------------------------\n",
      "Error metrics:\n",
      "dist(s, K) = 0.0000e+00, dist(y, K*) = 0.0000e+00, s'y/|s||y| = 9.5989e-01\n",
      "primal res: |Ax + s - b|_2 / (1 + |b|_2) = 4.0086e-06\n",
      "dual res: |Px + A'y + c|_2 / (1 + |c|_2) = 9.1623e-06\n",
      "rel gap: | x'Px + c'x + b'y| / (1 + |c'x| + |b'y|) = 7.3512e-07\n",
      "----------------------------------------------------------------------------\n",
      "c'x = -0.3806, -b'y = -0.3806\n",
      "============================================================================\n",
      "----------------------------------------------------------------------------\n",
      "\tSCS v2.1.2 - Splitting Conic Solver\n",
      "\t(c) Brendan O'Donoghue, Stanford University, 2012\n",
      "----------------------------------------------------------------------------\n",
      "Lin-sys: sparse-direct, nnz in A = 150\n",
      "eps = 1.00e-05, alpha = 1.00, max_iters = 5000, normalize = 0\n",
      "acceleration_lookback = 0, rho_x = 1.00e+00\n",
      "Variables n = 10, constraints m = 15\n",
      "Cones:\tlinear vars: 15\n",
      "Setup time: 7.10e-03s\n",
      "----------------------------------------------------------------------------\n",
      " Iter | pri res | dua res | rel gap | pri obj | dua obj | kap/tau | time (s)\n",
      "----------------------------------------------------------------------------\n",
      "     0| 7.89e+18  5.30e+17  9.64e-01 -2.05e+19 -3.80e+17  2.26e+19  7.18e-03 \n",
      "   100| 1.87e-03  5.79e-03  2.82e-03 -3.82e-01 -3.77e-01  1.00e+00  7.85e-03 \n",
      "   200| 4.02e-04  1.02e-03  7.38e-05 -3.80e-01 -3.80e-01  1.00e+00  9.27e-03 \n",
      "   300| 4.12e-05  1.23e-04  4.37e-05 -3.81e-01 -3.81e-01  1.00e+00  1.01e-02 \n",
      "   400| 4.01e-06  9.16e-06  7.35e-07 -3.81e-01 -3.81e-01  1.00e+00  1.09e-02 \n",
      "----------------------------------------------------------------------------\n",
      "Status: Solved\n",
      "Timing: Solve time: 1.10e-02s\n",
      "\tLin-sys: nnz in L factor: 265, avg solve time: 6.33e-07s\n",
      "\tCones: avg projection time: 4.04e-08s\n",
      "\tAcceleration: avg step time: 2.64e-08s\n",
      "----------------------------------------------------------------------------\n",
      "Error metrics:\n",
      "dist(s, K) = 0.0000e+00, dist(y, K*) = 0.0000e+00, s'y/|s||y| = 9.5989e-01\n",
      "primal res: |Ax + s - b|_2 / (1 + |b|_2) = 4.0086e-06\n",
      "dual res: |Px + A'y + c|_2 / (1 + |c|_2) = 9.1623e-06\n",
      "rel gap: | x'Px + c'x + b'y| / (1 + |c'x| + |b'y|) = 7.3512e-07\n",
      "----------------------------------------------------------------------------\n",
      "c'x = -0.3806, -b'y = -0.3806\n",
      "============================================================================\n"
     ]
    },
    {
     "data": {
      "text/plain": [
       "{'x': array([-0.01334372, -0.19445053, -0.07087348, -0.2836757 ,  0.1743111 ,\n",
       "         0.18741447, -0.29588919, -0.37625044,  0.10179928,  0.2087704 ]),\n",
       " 'y': array([0.        , 2.2412773 , 0.        , 0.        , 0.        ,\n",
       "        0.        , 0.        , 0.        , 0.        , 0.        ,\n",
       "        0.        , 0.        , 2.22115604, 0.        , 0.49274638]),\n",
       " 's': array([0.16160839, 2.24129238, 0.32458216, 0.1674836 , 0.09199965,\n",
       "        0.30142041, 0.29605914, 0.28286736, 0.16309568, 0.11625841,\n",
       "        0.19725877, 0.49202194, 2.22113606, 0.35007926, 0.49274893]),\n",
       " 'info': {'statusVal': 1,\n",
       "  'iter': 400,\n",
       "  'pobj': -0.38062722757524825,\n",
       "  'dobj': -0.3806259328460403,\n",
       "  'resPri': 4.008644826836244e-06,\n",
       "  'resDual': 9.162336611818112e-06,\n",
       "  'relGap': 7.351181744066344e-07,\n",
       "  'resInfeas': nan,\n",
       "  'resUnbdd': 2.6272340363154933,\n",
       "  'solveTime': 10.998455,\n",
       "  'setupTime': 7.096552,\n",
       "  'status': 'Solved'}}"
      ]
     },
     "execution_count": 9,
     "metadata": {},
     "output_type": "execute_result"
    }
   ],
   "source": [
    "probdata = dict(P=scipy.sparse.csc_matrix(P), A=scipy.sparse.csc_matrix(A), b=b, c=c)\n",
    "cone = dict(l=m)\n",
    "scs.solve(probdata, cone, normalize=False, max_iters=N, acceleration_lookback = 0)\n",
    "\n",
    "probdata = dict(P=scipy.sparse.csc_matrix(P), A=scipy.sparse.csc_matrix(A), b=b, c=c)\n",
    "cone = dict(l=m)\n",
    "scs.solve(probdata, cone, normalize=False, max_iters=N, acceleration_lookback = 0)"
   ]
  }
 ],
 "metadata": {
  "kernelspec": {
   "display_name": "Python 3",
   "language": "python",
   "name": "python3"
  },
  "language_info": {
   "codemirror_mode": {
    "name": "ipython",
    "version": 3
   },
   "file_extension": ".py",
   "mimetype": "text/x-python",
   "name": "python",
   "nbconvert_exporter": "python",
   "pygments_lexer": "ipython3",
   "version": "3.6.10"
  }
 },
 "nbformat": 4,
 "nbformat_minor": 4
}
